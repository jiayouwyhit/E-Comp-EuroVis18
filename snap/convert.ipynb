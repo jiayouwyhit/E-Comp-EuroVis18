{
 "cells": [
  {
   "cell_type": "code",
   "execution_count": 1,
   "metadata": {
    "collapsed": true
   },
   "outputs": [],
   "source": [
    "import pandas as pd\n",
    "import os\n",
    "from datetime import datetime\n",
    "import json\n",
    "import math\n",
    "import pprint\n",
    "\n",
    "pp = pprint.PrettyPrinter(indent=4)\n",
    "\n",
    "THRESHOLD = 200\n",
    "count = 1\n",
    "\n",
    "filename = 'network_data/tmp.txt'\n",
    "format = \"%Y-%m-%dT%H:%M:%SZ\"\n",
    "\n",
    "lis = []\n",
    "obj_cache = {}\n",
    "\n",
    "def sqrt(number):\n",
    "    return math.sqrt(number)\n",
    "\n",
    "def asin(number):\n",
    "    return math.asin(number)\n",
    "\n",
    "def cos(number):\n",
    "    return math.cos(number)\n",
    " \n",
    "def totimestamp(dt, epoch=datetime(1970,1,1)):\n",
    "    td = dt - epoch\n",
    "    # return td.total_seconds()\n",
    "    return (td.microseconds + (td.seconds + td.days * 86400) * 10**6) / 10**6 \n",
    "\n",
    "\n",
    "def get_dataframe(filename):\n",
    "    return pd.read_pickle(filename)\n",
    "\n",
    "def get_data(filename):\n",
    "    df = pd.read_csv(filename, delimiter='\\t',names=['timestamp', 'lat', 'lon', 'location_id'])\n",
    "    df.to_pickle(filename+\".pickle\")\n",
    "    return filename+\".pickle\"\n",
    "\n",
    "def distance(lat1, lon1, lat2, lon2):\n",
    "    p = 0.017453292519943295\n",
    "    a = 0.5 - cos((lat2 - lat1) * p)/2 + cos(lat1 * p) * cos(lat2 * p) * (1 - cos((lon2 - lon1) * p)) / 2\n",
    "    return 12742 * asin(sqrt(a)) * 1000\n",
    "\n",
    "def find_nearest_poi(row):\n",
    "    vector = []\n",
    "    location_id = row.location_id\n",
    "    lat = row.lat\n",
    "    lon = row.lon\n",
    "    \n",
    "    try:\n",
    "        return obj_cache[location_id]\n",
    "    except:\n",
    "        lat_approx = str(float(int(float(lat)*10))/10.0)\n",
    "        lon_approx = str(float(int(float(lon)*10))/10.0)\n",
    "        file_name  = \"mapDataOutput/lat={lat}/lon={lon}/\".format(lat=lat_approx,lon=lon_approx) + \"data.json\"\n",
    "        if os.path.exists(file_name):\n",
    "            try:\n",
    "                data = json.load(open(file_name))\n",
    "\n",
    "                for item in data:\n",
    "                    d = distance(lat1=lat, lon1=lon, lat2=float(item['lat']), lon2=float(item['lon']))\n",
    "                    if d <= THRESHOLD:\n",
    "                        vector.append(item)\n",
    "\n",
    "                obj_cache[location_id] = str(vector)\n",
    "            except Exception as e:\n",
    "                print(e)\n",
    "                return []\n",
    "        else:\n",
    "            obj_cache[location_id] = []\n",
    "        return vector"
   ]
  },
  {
   "cell_type": "code",
   "execution_count": null,
   "metadata": {
    "collapsed": true
   },
   "outputs": [],
   "source": []
  },
  {
   "cell_type": "code",
   "execution_count": null,
   "metadata": {
    "collapsed": false
   },
   "outputs": [],
   "source": [
    "get_data(filename)\n",
    "df = get_dataframe(filename+\".pickle\")\n",
    "\n",
    "df['lat'] = df.lat.apply(lambda x : float(x))\n",
    "df['lon'] = df.lon.apply(lambda x : float(x))\n",
    "df['timestamp'] = df.timestamp.apply(lambda x : datetime.strptime(x,format))\n",
    "df['date'] = df['timestamp'].apply(lambda x : x.date())\n",
    "df['timestamp'] = df.timestamp.apply(lambda x: totimestamp(x))\n",
    "df = df.sort_values('location_id')"
   ]
  },
  {
   "cell_type": "code",
   "execution_count": null,
   "metadata": {
    "collapsed": false
   },
   "outputs": [],
   "source": []
  },
  {
   "cell_type": "code",
   "execution_count": null,
   "metadata": {
    "collapsed": false,
    "scrolled": false
   },
   "outputs": [
    {
     "name": "stdout",
     "output_type": "stream",
     "text": [
      "Completed = 313 : Reset object cache\n",
      "Completed = 591 : Reset object cache\n"
     ]
    }
   ],
   "source": [
    "for index, row in df.iterrows():\n",
    "    row['vector'] = find_nearest_poi(row) \n",
    "    lis.append(row)\n",
    "    count+=1\n",
    "    \n",
    "    if count % 1000 == 0:\n",
    "        print(\"Completed = {completed}\".format(completed=count)) \n",
    "        break\n",
    "    \n",
    "    if len(obj_cache.keys()) > 100:\n",
    "        obj_cache = {}\n",
    "        print(\"Completed = {completed} : Reset object cache\".format(completed=count))\n",
    "\n",
    "df = pd.DataFrame(lis)\n",
    "df.to_csv(filename+'.final.csv')"
   ]
  },
  {
   "cell_type": "code",
   "execution_count": null,
   "metadata": {
    "collapsed": false
   },
   "outputs": [],
   "source": [
    "df.info()"
   ]
  },
  {
   "cell_type": "code",
   "execution_count": null,
   "metadata": {
    "collapsed": true
   },
   "outputs": [],
   "source": []
  }
 ],
 "metadata": {
  "kernelspec": {
   "display_name": "Python 2",
   "language": "python",
   "name": "python2"
  },
  "language_info": {
   "codemirror_mode": {
    "name": "ipython",
    "version": 2
   },
   "file_extension": ".py",
   "mimetype": "text/x-python",
   "name": "python",
   "nbconvert_exporter": "python",
   "pygments_lexer": "ipython2",
   "version": "2.7.12"
  }
 },
 "nbformat": 4,
 "nbformat_minor": 2
}
