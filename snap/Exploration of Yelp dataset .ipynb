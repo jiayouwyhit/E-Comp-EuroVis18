{
 "cells": [
  {
   "cell_type": "code",
   "execution_count": 1,
   "metadata": {
    "collapsed": false
   },
   "outputs": [],
   "source": [
    "%matplotlib inline\n",
    "\n",
    "from datetime import datetime\n",
    "from bs4 import BeautifulSoup\n",
    "\n",
    "import pandas as pd\n",
    "import matplotlib.pyplot as plt\n",
    "\n",
    "import os, json, math, pprint\n",
    "import glob, datetime, ast, pytz\n",
    "import pandas as pd\n",
    "import seaborn as sns\n",
    "from pymongo import MongoClient"
   ]
  },
  {
   "cell_type": "code",
   "execution_count": 2,
   "metadata": {
    "collapsed": false
   },
   "outputs": [],
   "source": [
    "client = MongoClient()\n",
    "db = client.yelp_comparative_analytics"
   ]
  },
  {
   "cell_type": "code",
   "execution_count": null,
   "metadata": {
    "collapsed": false
   },
   "outputs": [],
   "source": []
  },
  {
   "cell_type": "code",
   "execution_count": 3,
   "metadata": {
    "collapsed": false
   },
   "outputs": [],
   "source": [
    "def to_mongo_db(df, collection_name ):\n",
    "    records = json.loads(df.T.to_json()).values()\n",
    "    print(\"Done\", db[collection_name].insert_many(records))"
   ]
  },
  {
   "cell_type": "code",
   "execution_count": 4,
   "metadata": {
    "collapsed": false,
    "scrolled": false
   },
   "outputs": [
    {
     "name": "stdout",
     "output_type": "stream",
     "text": [
      "('Done', <pymongo.results.InsertManyResult object at 0x7fba25600690>)\n"
     ]
    }
   ],
   "source": [
    "df_business =  pd.DataFrame([json.loads(line) for line in open('yelp_academic_dataset_business.json').readlines()])\n",
    "to_mongo_db(df_business, 'yelp_business_information')"
   ]
  },
  {
   "cell_type": "code",
   "execution_count": 5,
   "metadata": {
    "collapsed": false
   },
   "outputs": [
    {
     "name": "stdout",
     "output_type": "stream",
     "text": [
      "('Done', <pymongo.results.InsertManyResult object at 0x7fba40be4e10>)\n"
     ]
    }
   ],
   "source": [
    "df_business_attributes = df_business[['attributes','business_id']].copy()\n",
    "to_mongo_db(df_business_attributes, 'yelp_business_attributes')"
   ]
  },
  {
   "cell_type": "code",
   "execution_count": 6,
   "metadata": {
    "collapsed": false
   },
   "outputs": [
    {
     "name": "stdout",
     "output_type": "stream",
     "text": [
      "('Done', <pymongo.results.InsertManyResult object at 0x7fba471e4640>)\n"
     ]
    }
   ],
   "source": [
    "df_business_categories = df_business[[u'categories','business_id']].copy()\n",
    "to_mongo_db(df_business_categories, 'yelp_business_categories')\n"
   ]
  },
  {
   "cell_type": "code",
   "execution_count": 7,
   "metadata": {
    "collapsed": false
   },
   "outputs": [
    {
     "name": "stdout",
     "output_type": "stream",
     "text": [
      "('Done', <pymongo.results.InsertManyResult object at 0x7fb712912690>)\n"
     ]
    }
   ],
   "source": [
    "df_users =  pd.DataFrame([json.loads(line) for line in open('yelp_academic_dataset_user.json').readlines()])\n",
    "to_mongo_db(df_users , 'yelp_users')\n",
    "df_users = None\n",
    "df_business = None"
   ]
  },
  {
   "cell_type": "code",
   "execution_count": 9,
   "metadata": {
    "collapsed": false
   },
   "outputs": [
    {
     "name": "stdout",
     "output_type": "stream",
     "text": [
      "('Done', <pymongo.results.InsertManyResult object at 0x7fba4b02ec80>)\n"
     ]
    }
   ],
   "source": [
    "df_tips =  pd.DataFrame([json.loads(line) for line in open('yelp_academic_dataset_tip.json').readlines()])\n",
    "to_mongo_db(df_tips , 'yelp_tips')"
   ]
  },
  {
   "cell_type": "code",
   "execution_count": 10,
   "metadata": {
    "collapsed": false
   },
   "outputs": [
    {
     "name": "stdout",
     "output_type": "stream",
     "text": [
      "('Done', <pymongo.results.InsertManyResult object at 0x7fbb71edd910>)\n"
     ]
    }
   ],
   "source": [
    "df_checkins =  pd.DataFrame([json.loads(line) for line in open('yelp_academic_dataset_checkin.json').readlines()])\n",
    "to_mongo_db(df_checkins , 'yelp_checkins')"
   ]
  },
  {
   "cell_type": "code",
   "execution_count": 11,
   "metadata": {
    "collapsed": false
   },
   "outputs": [
    {
     "name": "stdout",
     "output_type": "stream",
     "text": [
      "('Done', <pymongo.results.InsertManyResult object at 0x7fba4a331b90>)\n"
     ]
    }
   ],
   "source": [
    "df_reviews =  pd.DataFrame([json.loads(line) for line in open('yelp_academic_dataset_review.json').readlines()])\n",
    "to_mongo_db(df_reviews, 'yelp_reviews')"
   ]
  },
  {
   "cell_type": "code",
   "execution_count": null,
   "metadata": {
    "collapsed": true
   },
   "outputs": [],
   "source": []
  }
 ],
 "metadata": {
  "kernelspec": {
   "display_name": "Python 2",
   "language": "python",
   "name": "python2"
  },
  "language_info": {
   "codemirror_mode": {
    "name": "ipython",
    "version": 2
   },
   "file_extension": ".py",
   "mimetype": "text/x-python",
   "name": "python",
   "nbconvert_exporter": "python",
   "pygments_lexer": "ipython2",
   "version": "2.7.12"
  }
 },
 "nbformat": 4,
 "nbformat_minor": 2
}
